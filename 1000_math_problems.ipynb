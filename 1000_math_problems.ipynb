{
 "cells": [
  {
   "cell_type": "code",
   "execution_count": 1,
   "metadata": {},
   "outputs": [
    {
     "name": "stdout",
     "output_type": "stream",
     "text": [
      "euclids_hcf:  10\n"
     ]
    }
   ],
   "source": [
    "#Use Euclid’s division algorithm to find the HCF of two numbers:\n",
    "\n",
    "def euclids_hcf(x, y):\n",
    "   while(y):\n",
    "       x, y = y, x % y\n",
    "   return x\n",
    "\n",
    "hcf = euclids_hcf(30, 400)\n",
    "print(\"euclids_hcf: \", hcf)"
   ]
  },
  {
   "cell_type": "code",
   "execution_count": 2,
   "metadata": {},
   "outputs": [
    {
     "name": "stdout",
     "output_type": "stream",
     "text": [
      "Thecompute HCF for two numbers:  4\n"
     ]
    }
   ],
   "source": [
    "# Compute HCF of two numbers\n",
    "def compute_hcf(x, y):\n",
    "\n",
    "# choose the smaller number\n",
    "    if x > y:\n",
    "        smaller = y\n",
    "    else:\n",
    "        smaller = x\n",
    "    for i in range(1, smaller+1):\n",
    "        if((x % i == 0) and (y % i == 0)):\n",
    "            hcf = i \n",
    "    return hcf\n",
    "\n",
    "num1 = 20 \n",
    "num2 = 24\n",
    "\n",
    "print(\"Thecompute HCF for two numbers: \", compute_hcf(num1, num2))"
   ]
  },
  {
   "cell_type": "code",
   "execution_count": 3,
   "metadata": {},
   "outputs": [
    {
     "name": "stdout",
     "output_type": "stream",
     "text": [
      "The total terms are: 4\n",
      "2 raised to power 0 is 1\n",
      "2 raised to power 1 is 2\n",
      "2 raised to power 2 is 4\n",
      "2 raised to power 3 is 8\n"
     ]
    }
   ],
   "source": [
    "# Find the power of two for N terms\n",
    "terms=4\n",
    "result = list(map(lambda x: 2 ** x, range(terms)))\n",
    "\n",
    "print(\"The total terms are:\",terms)\n",
    "for i in range(terms):\n",
    "   print(\"2 raised to power\",i,\"is\",result[i])"
   ]
  },
  {
   "cell_type": "code",
   "execution_count": 4,
   "metadata": {},
   "outputs": [
    {
     "name": "stdout",
     "output_type": "stream",
     "text": [
      "[4, 16]\n"
     ]
    }
   ],
   "source": [
    "# Find list of number are divisible by another given number\n",
    "def divisible_number(n,list_input):\n",
    "    return list(filter(lambda x: (x % n == 0), list_input))\n",
    "\n",
    "print(divisible_number(4,[1,3,4,16]))"
   ]
  },
  {
   "cell_type": "code",
   "execution_count": 5,
   "metadata": {},
   "outputs": [
    {
     "name": "stdout",
     "output_type": "stream",
     "text": [
      "0o12\n"
     ]
    }
   ],
   "source": [
    "# Convert Decimal to Hexadeicmal,binary,Octal\n",
    "def decimal_to(numb,type1):\n",
    "    if type1== 'hexa':\n",
    "        return hex(numb)\n",
    "    elif type1== 'binary':\n",
    "        return bin(numb)\n",
    "    elif type1 == 'oct':\n",
    "        return oct(numb)\n",
    "    else:\n",
    "        return numb\n",
    "    \n",
    "print(decimal_to(10,'oct'))"
   ]
  },
  {
   "cell_type": "code",
   "execution_count": 6,
   "metadata": {},
   "outputs": [
    {
     "name": "stdout",
     "output_type": "stream",
     "text": [
      "A\n"
     ]
    }
   ],
   "source": [
    "# character to ASCII and vice versa\n",
    "def char_ascii(input,value='ascii'):\n",
    "    if value=='ascii':\n",
    "        return chr(input)\n",
    "    elif value == 'ord':\n",
    "        return ord(input)\n",
    "\n",
    "print(char_ascii(65))"
   ]
  },
  {
   "cell_type": "code",
   "execution_count": 7,
   "metadata": {},
   "outputs": [
    {
     "name": "stdout",
     "output_type": "stream",
     "text": [
      "The factors of 320 are:\n",
      "1\n",
      "2\n",
      "4\n",
      "5\n",
      "8\n",
      "10\n",
      "16\n",
      "20\n",
      "32\n",
      "40\n",
      "64\n",
      "80\n",
      "160\n",
      "320\n"
     ]
    }
   ],
   "source": [
    "# Python Program to find the factors of a number\n",
    "def print_factors(x):\n",
    "   print(\"The factors of\",x,\"are:\")\n",
    "   for i in range(1, x + 1):\n",
    "       if x % i == 0:\n",
    "           print(i)\n",
    "\n",
    "num = 320\n",
    "\n",
    "print_factors(num)"
   ]
  },
  {
   "cell_type": "code",
   "execution_count": 8,
   "metadata": {},
   "outputs": [
    {
     "name": "stdout",
     "output_type": "stream",
     "text": [
      "2000 is a leap year\n"
     ]
    }
   ],
   "source": [
    "#program to check if year is a leap year or not\n",
    "\n",
    "year = 2000\n",
    "\n",
    "def leap_year_check(year):\n",
    "    if (year % 4) == 0:\n",
    "       if (year % 100) == 0:\n",
    "           if (year % 400) == 0:\n",
    "               return f\"{format(year)} is a leap year\"\n",
    "           else:\n",
    "               return f\"{format(year)} is not a leap year\"\n",
    "       else:\n",
    "           return f\"{format(year)} is a leap year\"\n",
    "    else:\n",
    "       return f\"{format(year)} is not a leap year\"\n",
    "    \n",
    "print(leap_year_check(year))"
   ]
  },
  {
   "cell_type": "code",
   "execution_count": 9,
   "metadata": {},
   "outputs": [
    {
     "name": "stdout",
     "output_type": "stream",
     "text": [
      "6 is Even\n"
     ]
    }
   ],
   "source": [
    "# Given number is odd or even\n",
    "def odd_even(num):\n",
    "    if (num % 2) == 0:\n",
    "       return f\"{format(num)} is Even\"\n",
    "    else:\n",
    "       return f\"{format(num)} is Odd\"\n",
    "\n",
    "print(odd_even(6))"
   ]
  },
  {
   "cell_type": "code",
   "execution_count": 10,
   "metadata": {},
   "outputs": [
    {
     "name": "stdout",
     "output_type": "stream",
     "text": [
      "262 is not an Armstrong number\n"
     ]
    }
   ],
   "source": [
    "# program to check if the number is an Armstrong number or not\n",
    "def armstrong_num_or_not(num):\n",
    "    sum = 0\n",
    "    temp = num\n",
    "    while temp > 0:\n",
    "       digit = temp % 10\n",
    "       sum += digit ** 3\n",
    "       temp //= 10\n",
    "\n",
    "    # display the result\n",
    "    if num == sum:\n",
    "       return f\"{num} is an Armstrong number\"\n",
    "    else:\n",
    "       return f\"{num} is not an Armstrong number\"\n",
    "    \n",
    "print(armstrong_num_or_not(262))"
   ]
  },
  {
   "cell_type": "code",
   "execution_count": 11,
   "metadata": {},
   "outputs": [
    {
     "name": "stdout",
     "output_type": "stream",
     "text": [
      "153\n",
      "370\n",
      "371\n",
      "407\n",
      "None\n"
     ]
    }
   ],
   "source": [
    "#  Program to check Armstrong numbers in a certain interval\n",
    "\n",
    "def armstrong_number_interval(lower,upper):\n",
    "    for num in range(lower, upper + 1):\n",
    "\n",
    "       # order of number\n",
    "       order = len(str(num))\n",
    "\n",
    "       # initialize sum\n",
    "       sum = 0\n",
    "\n",
    "       temp = num\n",
    "       while temp > 0:\n",
    "           digit = temp % 10\n",
    "           sum += digit ** order\n",
    "           temp //= 10\n",
    "\n",
    "       if num == sum:\n",
    "           print(num)\n",
    "            \n",
    "print(armstrong_number_interval(100,1500))"
   ]
  },
  {
   "cell_type": "code",
   "execution_count": 12,
   "metadata": {},
   "outputs": [
    {
     "name": "stdout",
     "output_type": "stream",
     "text": [
      "11\n"
     ]
    }
   ],
   "source": [
    "# Program to display all the prime numbers within an interval\n",
    "\n",
    "def prime_num_interval(lower,upper):\n",
    "    for num in range(lower, upper + 1):\n",
    "       # all prime numbers are greater than 1\n",
    "       if num > 1:\n",
    "           for i in range(2, num):\n",
    "               if (num % i) == 0:\n",
    "                   break\n",
    "           else:\n",
    "               return (num)\n",
    "            \n",
    "print(prime_num_interval(10,50))"
   ]
  },
  {
   "cell_type": "code",
   "execution_count": 13,
   "metadata": {},
   "outputs": [
    {
     "name": "stdout",
     "output_type": "stream",
     "text": [
      "10 X 1 = 10\n",
      "10 X 2 = 20\n",
      "10 X 3 = 30\n",
      "10 X 4 = 40\n",
      "10 X 5 = 50\n",
      "10 X 6 = 60\n",
      "10 X 7 = 70\n",
      "10 X 8 = 80\n",
      "10 X 9 = 90\n",
      "10 X 10 = 100\n"
     ]
    }
   ],
   "source": [
    "# Multiplication table generator\n",
    "\n",
    "def multi_table(input):\n",
    "    for i in range(1,11):\n",
    "        print (f'{input} X {i} = {input * i}')\n",
    "    \n",
    "multi_table(10)"
   ]
  },
  {
   "cell_type": "code",
   "execution_count": 14,
   "metadata": {},
   "outputs": [
    {
     "name": "stdout",
     "output_type": "stream",
     "text": [
      "Fibonacci sequence:\n",
      "0\n",
      "1\n",
      "1\n",
      "2\n",
      "3\n",
      "5\n",
      "8\n",
      "13\n",
      "21\n",
      "34\n"
     ]
    }
   ],
   "source": [
    "# Program to display the Fibonacci sequence up to n-th term\n",
    "\n",
    "def fib_series(nterms):\n",
    "    # first two terms\n",
    "    n1, n2 = 0, 1\n",
    "    count = 0\n",
    "\n",
    "    # check if the number of terms is valid\n",
    "    if nterms <= 0:\n",
    "       print(\"Please enter a positive integer\")\n",
    "    elif nterms == 1:\n",
    "       print(\"Fibonacci sequence upto\",nterms,\":\")\n",
    "       print(n1)\n",
    "    else:\n",
    "       print(\"Fibonacci sequence:\")\n",
    "       while count < nterms:\n",
    "           print(n1)\n",
    "           nth = n1 + n2\n",
    "           # update values\n",
    "           n1 = n2\n",
    "           n2 = nth\n",
    "           count += 1\n",
    "            \n",
    "fib_series(10)"
   ]
  },
  {
   "cell_type": "code",
   "execution_count": 15,
   "metadata": {},
   "outputs": [
    {
     "name": "stdout",
     "output_type": "stream",
     "text": [
      "Element is present at index  3\n"
     ]
    }
   ],
   "source": [
    "# Python3 code to implement iterative Binary Search\n",
    "def binarySearch(arr, l, r, x): \n",
    "  \n",
    "    while l <= r: \n",
    "  \n",
    "        mid = l + (r - l) // 2; \n",
    "          \n",
    "        # Check if x is present at mid \n",
    "        if arr[mid] == x: \n",
    "            return mid \n",
    "  \n",
    "        # If x is greater, ignore left half \n",
    "        elif arr[mid] < x: \n",
    "            l = mid + 1\n",
    "  \n",
    "        # If x is smaller, ignore right half \n",
    "        else: \n",
    "            r = mid - 1\n",
    "      \n",
    "    # If we reach here, then the element \n",
    "    # was not present \n",
    "    return -1\n",
    "\n",
    "arr = [ 2, 3, 4, 10, 40 ] \n",
    "x = 10\n",
    "  \n",
    "# Function call \n",
    "result = binarySearch(arr, 0, len(arr)-1, x) \n",
    "  \n",
    "if result != -1: \n",
    "    print (\"Element is present at index % d\" % result) \n",
    "else: \n",
    "    print (\"Element is not present in array\") "
   ]
  },
  {
   "cell_type": "code",
   "execution_count": 16,
   "metadata": {},
   "outputs": [
    {
     "name": "stdout",
     "output_type": "stream",
     "text": [
      "K'th smallest element is 3\n"
     ]
    }
   ],
   "source": [
    "# Python3 program to find k'th smallest from list\n",
    "def kthSmallest(arr, k):  \n",
    "    arr.sort()   \n",
    "    return arr[k-1] \n",
    "\n",
    "print(\"K'th smallest element is\",  kthSmallest([12, 3, 5, 7, 19,23,2], 2)) "
   ]
  },
  {
   "cell_type": "code",
   "execution_count": 17,
   "metadata": {},
   "outputs": [
    {
     "name": "stdout",
     "output_type": "stream",
     "text": [
      "leanear search for list 6\n"
     ]
    }
   ],
   "source": [
    "# Python program to do linear search in a list\n",
    "def linear_search(arr, x): \n",
    "    for i in range(0, len(arr)): \n",
    "        if (arr[i] == x): \n",
    "            return i \n",
    "    return -1\n",
    "\n",
    "print('leanear search for list',linear_search([12, 3, 5, 7, 19,23,2], 2)) "
   ]
  },
  {
   "cell_type": "code",
   "execution_count": 18,
   "metadata": {},
   "outputs": [],
   "source": [
    "# https://www.geeksforgeeks.org/lucky-numbers/?ref=lbp"
   ]
  },
  {
   "cell_type": "code",
   "execution_count": 19,
   "metadata": {},
   "outputs": [
    {
     "name": "stdout",
     "output_type": "stream",
     "text": [
      "5 is a Lucky number\n"
     ]
    }
   ],
   "source": [
    "# Python program to check for lucky number\n",
    "def isLucky(n):\n",
    "     \n",
    "    # Function attribute will act \n",
    "    # as static variable   \n",
    "    # just for readability, can be \n",
    "    # removed and used n instead\n",
    "    next_position = n\n",
    "     \n",
    "    if isLucky.counter > n:\n",
    "        return 1\n",
    "    if n % isLucky.counter == 0:\n",
    "        return 0\n",
    "     \n",
    "    # Calculate next position of input number\n",
    "    next_position = next_position - next_position / isLucky.counter\n",
    "     \n",
    "    isLucky.counter = isLucky.counter + 1\n",
    "     \n",
    "    return isLucky(next_position)\n",
    "\n",
    "# Driver Code\n",
    " \n",
    "isLucky.counter = 2 # Acts as static variable\n",
    "x = 5\n",
    "if isLucky(x):\n",
    "    print (x,\"is a Lucky number\")\n",
    "else:\n",
    "    print (x,\"is not a Lucky number\")"
   ]
  },
  {
   "cell_type": "code",
   "execution_count": 20,
   "metadata": {},
   "outputs": [
    {
     "name": "stdout",
     "output_type": "stream",
     "text": [
      "10\n"
     ]
    }
   ],
   "source": [
    "# Function to return the gcd of two numbers \n",
    "def gcd(a, b):\n",
    "    if (b == 0):\n",
    "        return a\n",
    "    return gcd(b, a % b)\n",
    "\n",
    "print(gcd(10,20))"
   ]
  },
  {
   "cell_type": "code",
   "execution_count": 21,
   "metadata": {},
   "outputs": [
    {
     "name": "stdout",
     "output_type": "stream",
     "text": [
      "28.0   8\n"
     ]
    }
   ],
   "source": [
    "# Program to Partition first N natural number into two sets such that their sum is not coprime\n",
    "def find_set(n): \n",
    "  \n",
    "    # Impossible case \n",
    "    if (n <= 2): \n",
    "        print(\"-1\"); \n",
    "        return; \n",
    "  \n",
    "    # Sum of first n-1 natural numbers \n",
    "    sum1 = (n * (n - 1)) / 2; \n",
    "    sum2 = n; \n",
    "    print(sum1, \" \", sum2); \n",
    "  \n",
    "# Driver code \n",
    "n = 8; \n",
    "find_set(n); "
   ]
  },
  {
   "cell_type": "code",
   "execution_count": 22,
   "metadata": {},
   "outputs": [
    {
     "name": "stdout",
     "output_type": "stream",
     "text": [
      "1\n"
     ]
    }
   ],
   "source": [
    "# Program to Split first N natural numbers into two sets with minimum absolute difference of their sums\n",
    "def minAbsDiff(N):\n",
    "     \n",
    "    # Stores the sum of\n",
    "    # elements of set1\n",
    "    sumSet1 = 0\n",
    " \n",
    "    # Stores the sum of\n",
    "    # elements of set2\n",
    "    sumSet2 = 0\n",
    " \n",
    "    # Traverse first N\n",
    "    # natural numbers\n",
    "    for i in reversed(range(N + 1)):\n",
    "         \n",
    "        # Check if sum of elements of\n",
    "        # set1 is less than or equal\n",
    "        # to sum of elements of set2\n",
    "        if sumSet1 <= sumSet2:\n",
    "           sumSet1 = sumSet1 + i\n",
    "        else:\n",
    "           sumSet2 = sumSet2 + i\n",
    "       \n",
    "    return abs(sumSet1 - sumSet2)\n",
    " \n",
    "# Driver Code\n",
    "N = 6\n",
    " \n",
    "print(minAbsDiff(N))"
   ]
  },
  {
   "cell_type": "code",
   "execution_count": 23,
   "metadata": {},
   "outputs": [
    {
     "name": "stdout",
     "output_type": "stream",
     "text": [
      "2 4 6 \n",
      "1 3 5 "
     ]
    }
   ],
   "source": [
    "# program to Split N natural numbers into two sets having GCD of their sums greater than 1\n",
    "def createSets(N):\n",
    "   \n",
    "    # No such split\n",
    "    # possible for N <= 2\n",
    "    if (N <= 2):\n",
    "        print(\"-1\");\n",
    "        return;\n",
    " \n",
    "    # Print the first set\n",
    "    # consisting of even elements\n",
    "    for i in range(2, N + 1, 2):\n",
    "        print(i, end=\" \");\n",
    "    print(\"\");\n",
    " \n",
    "    # Print the second set\n",
    "    # consisting of odd ones\n",
    "    for i in range(1, N + 1, 2):\n",
    "        print(i, end = \" \");\n",
    " \n",
    "# Driver Code\n",
    "if __name__ == '__main__':\n",
    "    N = 6;\n",
    "    createSets(N);"
   ]
  },
  {
   "cell_type": "code",
   "execution_count": 1,
   "metadata": {},
   "outputs": [
    {
     "name": "stdout",
     "output_type": "stream",
     "text": [
      "True\n"
     ]
    }
   ],
   "source": [
    "#program to check palindrome or not\n",
    " \n",
    "def isPalindrome(s):\n",
    "    return s == s[::-1]\n",
    "\n",
    "print(isPalindrome('malayalam'))"
   ]
  },
  {
   "cell_type": "code",
   "execution_count": 2,
   "metadata": {},
   "outputs": [
    {
     "name": "stdout",
     "output_type": "stream",
     "text": [
      "Palindrome\n"
     ]
    }
   ],
   "source": [
    "# Program to check if an Array is Palindrome or not\n",
    "# Python3 Program to check whether the  Array is palindromic or not \n",
    "def palindrome(arr, n): \n",
    "  \n",
    "    # Initialise flag to zero. \n",
    "    flag = 0; \n",
    "  \n",
    "    # Loop till array size n/2. \n",
    "    i = 0; \n",
    "    while (i <= n // 2 and n != 0): \n",
    "  \n",
    "        # Check if first and last element  \n",
    "        # are different. Then set flag to 1. \n",
    "        if (arr[i] != arr[n - i - 1]): \n",
    "            flag = 1; \n",
    "            break; \n",
    "        i += 1; \n",
    "  \n",
    "    # If flag is set then print Not Palindrome \n",
    "    # else print Palindrome. \n",
    "    if (flag == 1): \n",
    "        print(\"Not Palindrome\"); \n",
    "    else: \n",
    "        print(\"Palindrome\"); \n",
    "  \n",
    "# Driver code. \n",
    "arr = [ 1, 2, 3, 2, 1 ]; \n",
    "n = len(arr); \n",
    "  \n",
    "palindrome(arr, n); "
   ]
  },
  {
   "cell_type": "code",
   "execution_count": null,
   "metadata": {},
   "outputs": [],
   "source": []
  }
 ],
 "metadata": {
  "kernelspec": {
   "display_name": "Python 3",
   "language": "python",
   "name": "python3"
  },
  "language_info": {
   "codemirror_mode": {
    "name": "ipython",
    "version": 3
   },
   "file_extension": ".py",
   "mimetype": "text/x-python",
   "name": "python",
   "nbconvert_exporter": "python",
   "pygments_lexer": "ipython3",
   "version": "3.7.6"
  }
 },
 "nbformat": 4,
 "nbformat_minor": 4
}
